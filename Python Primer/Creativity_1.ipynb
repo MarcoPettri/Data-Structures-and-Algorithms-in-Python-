{
 "cells": [
  {
   "attachments": {},
   "cell_type": "markdown",
   "metadata": {},
   "source": [
    "# Exercises Chapter 1: Python Prime"
   ]
  },
  {
   "attachments": {},
   "cell_type": "markdown",
   "metadata": {
    "tags": []
   },
   "source": [
    "## Creativity "
   ]
  },
  {
   "cell_type": "markdown",
   "metadata": {},
   "source": [
    "- C-1.13 Write a pseudo-code description of a function that reverses a list of $n$ integers, so that the numbers are listed in the opposite order than they were before, and compare this method to an equivalent Python function for doing the same thing. "
   ]
  },
  {
   "cell_type": "markdown",
   "metadata": {
    "tags": []
   },
   "source": [
    "##### Answer"
   ]
  },
  {
   "cell_type": "markdown",
   "metadata": {},
   "source": [
    "***Algorithm*** $reverse\\_list(A):$\n",
    "\n",
    "$\\qquad$ ***Input:*** An list $A$ storing $n \\enspace integers.$\n",
    "\n",
    "$\\qquad$ ***Output:*** The reverse list $A$.\n",
    "\n",
    "$\\qquad  len \\leftarrow A.length -1 \\\\\n",
    "\\qquad array \\leftarrow Create \\; a \\; new\\; list\\\\\n",
    "\\qquad While\\;  len \\geq 0 \\; do \\\\\n",
    "\\hspace{2cm} array  \\leftarrow A[len]\\\\\n",
    "\\hspace{2cm} len \\leftarrow len -1 \\\\\n",
    "\\qquad A \\leftarrow array \\\\\n",
    "\\qquad return \\; A$\n"
   ]
  },
  {
   "cell_type": "code",
   "execution_count": 1,
   "metadata": {},
   "outputs": [
    {
     "name": "stdout",
     "output_type": "stream",
     "text": [
      "[0, 1, 2, 3, 4, 5, 6, 7, 8, 9]\n",
      "[9, 8, 7, 6, 5, 4, 3, 2, 1, 0]\n"
     ]
    }
   ],
   "source": [
    "def reverse_list(A: list[int]) -> list :\n",
    "    \n",
    "    length = len(A) -1\n",
    "    array = list()\n",
    "    \n",
    "    while length >= 0:\n",
    "        array.append( A[length])\n",
    "        length -= 1\n",
    "    A = array\n",
    "    return A\n",
    "\n",
    "test = list(range(10))\n",
    "print(test, reverse_list(test), sep=\"\\n\")\n",
    "\n"
   ]
  },
  {
   "cell_type": "markdown",
   "metadata": {},
   "source": [
    "- C-1.14 Write a short Python function that takes a sequence of integer values and determines if there is a distinct pair of numbers in the sequence whose product is odd."
   ]
  },
  {
   "cell_type": "code",
   "execution_count": 3,
   "metadata": {},
   "outputs": [
    {
     "name": "stdout",
     "output_type": "stream",
     "text": [
      "[2, 3, 4, 5, 6, 7, 8, 9]\n",
      "[(3, 5), (3, 7), (3, 9), (5, 7), (5, 9), (7, 9)]\n"
     ]
    }
   ],
   "source": [
    "def product_odd(sequence : int) -> list  :\n",
    "    \"\"\"\n",
    "        returns a list of tuples with the elements whose product is an odd integer.\n",
    "    \"\"\"\n",
    "    factors = list()\n",
    "    \n",
    "    for index, element in enumerate(sequence):\n",
    "        for i in range(index +1, len(sequence)):\n",
    "            \n",
    "            factors.append((element , sequence[i])) if  ((element * sequence[i]) & 1) else None \n",
    "              \n",
    "    return factors  if len(factors) > 0 else False \n",
    "\n",
    "\n",
    "test = list(range(2,10))\n",
    "print(test)\n",
    "print(product_odd(test))      "
   ]
  },
  {
   "cell_type": "markdown",
   "metadata": {},
   "source": [
    "- C-.15 Write a Python function that takes a sequence of numbers and determines if all the numbers are different from each other(that is, they are distinct.) "
   ]
  },
  {
   "cell_type": "code",
   "execution_count": 4,
   "metadata": {},
   "outputs": [
    {
     "name": "stdout",
     "output_type": "stream",
     "text": [
      "[22, 39, 32, 52, 4, 91, 5, 43, 32, 20]--> {32: 2}\n",
      "\n",
      "[15, 15, 15, 15, 15, 15, 15, 15, 15, 15, 15, 15]--> {15: 12}\n",
      "\n",
      "[2, 4, 6, 3, 6, 2, 3, 8, 4, 7]--> {2: 2, 4: 2, 6: 2, 3: 2}\n"
     ]
    }
   ],
   "source": [
    "import numpy as np\n",
    "\n",
    "test_one = np.random.randint(1, 100, 10).tolist()\n",
    "test_two = np.full((12,), 15).tolist()\n",
    "test_three = np.random.randint(1, 10, 10).tolist()\n",
    "\n",
    "def occurrence_count (sequence: list[int]) -> dict | bool :\n",
    "    \"\"\"\n",
    "        returns a dict with the elements as keys and their frequencies as values,\n",
    "        otherwise return False.\n",
    "    \"\"\"\n",
    "    number_times = {element :sequence.count(element) for element in sequence if sequence.count(element) >= 2 }\n",
    "    \n",
    "    return  number_times if number_times else False\n",
    "\n",
    "print(test_one, occurrence_count(test_one), sep= \"--> \"), print()\n",
    "print(test_two, occurrence_count(test_two), sep= \"--> \"), print()\n",
    "print(test_three, occurrence_count(test_three), sep= \"--> \")"
   ]
  },
  {
   "cell_type": "markdown",
   "metadata": {},
   "source": [
    "- C-.16 In out implementation of the $scale$ function (page 25), the body of the loop executes the command $data[j] \\enspace *= factor.$ We have discussed that numeric types are immutable, and that use of the $*=$ operator in this context causes the creation of a new instance (not the mutation of an existing instance). How is it still possible, then, that our implementation of $scale$ changes the actual parameter sent by the caller?"
   ]
  },
  {
   "cell_type": "markdown",
   "metadata": {},
   "source": [
    "#### Answer :\n",
    "&emsp;&emsp;&emsp;&emsp; *Based on the value of the instance, a new instance is created and inserted into the index where the previous instance was located.*"
   ]
  },
  {
   "cell_type": "markdown",
   "metadata": {},
   "source": [
    "- C-1.17 Had we implemented the $scale$ function (page 25) as follows, does it work properly?\n",
    "\n",
    "```python\n",
    "def scale(data, factor):\n",
    "    for val in data:\n",
    "        val *= factor\n",
    "```\n",
    "Explain why or why not.\n",
    "\n"
   ]
  },
  {
   "cell_type": "markdown",
   "metadata": {},
   "source": [
    "#### Answer :\n",
    "&emsp;&emsp;&emsp;&emsp; *The function would work correctly, but the elements of the sequence would not change because the indexes of the sequence are not being updated.*"
   ]
  },
  {
   "cell_type": "markdown",
   "metadata": {},
   "source": [
    "- C-1.18 Demonstrate how to use Python's list comprehension syntax to produce the list  $[0, 2, 6, 12, 20, 30, 42, 56, 72, 90].$"
   ]
  },
  {
   "cell_type": "code",
   "execution_count": 5,
   "metadata": {},
   "outputs": [
    {
     "data": {
      "text/plain": [
       "[0, 2, 6, 12, 20, 30, 42, 56, 72, 90]"
      ]
     },
     "execution_count": 5,
     "metadata": {},
     "output_type": "execute_result"
    }
   ],
   "source": [
    "list(x + x*x for x in range(10))\n"
   ]
  },
  {
   "cell_type": "markdown",
   "metadata": {},
   "source": [
    "- C-1.19 Demonstrate how to use Python's list comprehension syntax to produce the list ```['a', 'b', 'c', ..., 'z']```, but without having to type all 26 such characters literally."
   ]
  },
  {
   "cell_type": "code",
   "execution_count": 8,
   "metadata": {},
   "outputs": [
    {
     "data": {
      "text/plain": [
       "'a, b, c, d, e, f, g, h, i, j, k, l, m, n, o, p, q, r, s, t, u, v, w, x, y, z'"
      ]
     },
     "execution_count": 8,
     "metadata": {},
     "output_type": "execute_result"
    }
   ],
   "source": [
    "alphabet = map(chr, range(97, 123))\n",
    "\", \".join(alphabet)"
   ]
  },
  {
   "cell_type": "markdown",
   "metadata": {},
   "source": [
    "- C-1.20 Python's $random$ module includes a function $shuffle(data)$ that accepts a list of elements and randomly reorders the elements so that each possible order occurs whit equal probability. the $random$ module includes a more basic function $randint(a, b)$ that returns a uniformly random integer from $a$ to $b$ (including both endpoints). Using only the $randint$ function, implement your own version of the $shuffle$ function.  "
   ]
  },
  {
   "cell_type": "code",
   "execution_count": 9,
   "metadata": {},
   "outputs": [
    {
     "name": "stdout",
     "output_type": "stream",
     "text": [
      "[0, 1, 2, 3, 4, 5, 6, 7, 8, 9, 10, 11] ---> [7, 3, 6, 2, 5, 9, 8, 11, 10, 0, 1, 4]\n",
      "['A', 'B', 'C', 'D'] ---> ['D', 'A', 'B', 'C']\n",
      "\n",
      "[8, 4, 10, 11, 6, 7, 3, 0, 2, 1, 9, 5]\n",
      "['C', 'A', 'D', 'B']\n"
     ]
    }
   ],
   "source": [
    "def permutation(iterable: iter) -> list:\n",
    "    \"\"\"\n",
    "        returns a list of random permutations of the sequence using Fisher-Yates algorithm\n",
    "    \"\"\"\n",
    "    \n",
    "    from random import randint\n",
    "    \n",
    "    sequence = list(iterable)\n",
    "    result = list()\n",
    "\n",
    "    for _ in range(len(sequence)):\n",
    "    \n",
    "        roll = randint(0, len(sequence)-1)\n",
    "        result.append(sequence[roll])\n",
    "        sequence.remove(sequence[roll])\n",
    "    \n",
    "    return result \n",
    "\n",
    "def shuffle(sequence: iter) -> None:\n",
    "    \"\"\" shuffles the sequence\"\"\"\n",
    "    from random import randint\n",
    "    \n",
    "    i = len(sequence)\n",
    "    while i > 1:\n",
    "        i -= 1\n",
    "        j = randint(0, i -1)\n",
    "        sequence[j], sequence[i] = sequence[i], sequence[j]\n",
    "\n",
    "        \n",
    "test = list(range(12))\n",
    "test_two = list(map(chr, range(65,69)))\n",
    "\n",
    "print(\"{} ---> {}\".format(test, permutation(test)) )\n",
    "print(\"{} ---> {}\".format(test_two, permutation(test_two)) )\n",
    "print()\n",
    "shuffle(test), shuffle(test_two)\n",
    "print(test, test_two, sep= \"\\n\")\n"
   ]
  },
  {
   "cell_type": "markdown",
   "metadata": {},
   "source": [
    "- C-1.21 Write a Python program that repeatedly reads lines from standard input until *EOFError* is raised, and then outputs those lines in reverse order (a user can indicate end of input by typing ctrl-D)."
   ]
  },
  {
   "cell_type": "code",
   "execution_count": 10,
   "metadata": {},
   "outputs": [],
   "source": [
    "# Note: Run in console, jupyter doesn't support Keyboard Interrupt  \n",
    "\n",
    "text = list()\n",
    "# try:\n",
    "#     while True:\n",
    "#         print(\"To exit press CTRL + D\")\n",
    "#         inputs = input(\"Enter the next line: \")\n",
    "#         print(inputs)\n",
    "#         text.append(inputs)\n",
    "# except EOFError :\n",
    "#     for words in reversed(text):\n",
    "#         print(words)\n"
   ]
  },
  {
   "cell_type": "markdown",
   "metadata": {},
   "source": [
    "- C-1.22 Write a short Python program that takes two arrays $a$ and $b$ of length $n$ storing **int**  values, and returns the dot product of $a$ and $b$. That is, it returns an array $c$ of length $n$ such that $c[i] = a[i] \\cdot b[i],$ for $i = 0,...,n-1.$"
   ]
  },
  {
   "cell_type": "code",
   "execution_count": 10,
   "metadata": {},
   "outputs": [
    {
     "name": "stdout",
     "output_type": "stream",
     "text": [
      "[1, 2, 3, 4, 5, 6, 7, 8, 9] [10, 11, 12, 13, 14, 15, 16, 17, 18, 19, 20]\n",
      "[10, 22, 36, 52, 70, 90, 112, 136, 162]\n"
     ]
    }
   ],
   "source": [
    "array = list(range(1,10))\n",
    "array_two = list(range(10,21))\n",
    "\n",
    "def dot_product(a: list[int], b: list[int]) -> list:\n",
    "    \"\"\"\n",
    "    Returns a list of dot products of the arrays a and b.\n",
    "    \"\"\" \n",
    "    return list(map(lambda x, z: x * z, a, b))\n",
    "\n",
    "print(array, array_two)\n",
    "print(dot_product(array, array_two))"
   ]
  },
  {
   "cell_type": "markdown",
   "metadata": {},
   "source": [
    "- C-1.23 Give and example of a Python code fragment that attempts to write an element to a list based on an index that may be out out of bounds. If that index os out of bounds, the program should catch the exception that results, and print the following error message:\n",
    "```\"Don't try buffer overflow attacks in Python!\"``` "
   ]
  },
  {
   "cell_type": "code",
   "execution_count": 1,
   "metadata": {},
   "outputs": [
    {
     "name": "stdout",
     "output_type": "stream",
     "text": [
      "[0, 1, 2, 3, 4, 5, 6, 7, 8, 9, 10, 11]\n",
      "[-2046, 1, 2, 3, -2108, 5, 6, 6141, 8, 1640, 10, -4560]\n",
      "Don't try buffer overflow attacks in Python\n"
     ]
    }
   ],
   "source": [
    "from random import randint\n",
    "  \n",
    "container = list(range(12))\n",
    "print(container)\n",
    "try :\n",
    "    while True:\n",
    "        index = randint(0, len(container))\n",
    "        element = randint(-100, 100) * randint(-100, 100)\n",
    "        container[index] = element\n",
    "    \n",
    "except IndexError:\n",
    "    print(container)\n",
    "    print(\"Don't try buffer overflow attacks in Python\")"
   ]
  },
  {
   "cell_type": "markdown",
   "metadata": {},
   "source": [
    "- C-1.24 Write a short Python function that counts the number of vowels in a give character string."
   ]
  },
  {
   "cell_type": "code",
   "execution_count": 4,
   "metadata": {},
   "outputs": [
    {
     "name": "stdout",
     "output_type": "stream",
     "text": [
      " o: 9  a: 4  i: 10  e: 14\n",
      " a: 4  e: 9  o: 5  u: 3  i: 7\n"
     ]
    }
   ],
   "source": [
    "from collections import Counter\n",
    "\n",
    "string_one = \"Clocks slay time… time is dead as long as it is being clicked off by little wheels; only when the clock stops does time come to life.\" #– The Sound And The Fury by William Faulkner\n",
    "\n",
    "string_two = \"And, when you want something, all the universe conspires in helping you to achieve it.\" # The Alchemist by Paulo Coelho\n",
    "\n",
    "\n",
    "counter_vowel = lambda string: Counter((w for w in string.lower() if w in ('a', 'e', 'i', 'o', 'u')))\n",
    "\n",
    "print(*(f\"{w:>2}: {c}\" for w,c in counter_vowel(string_one).items() ))\n",
    "print(*(f\"{w:>2}: {c}\" for w,c in counter_vowel(string_two).items() ))"
   ]
  },
  {
   "cell_type": "markdown",
   "metadata": {},
   "source": [
    "- C-1.25 Write a short Python function that takes a string $s$, representing a sentence, and returns a copy of the string with all punctuation removed. For Example, if given the string ```\"Lets's try, Mike.\"```, this function would return ```\"Lets try Mike\"```"
   ]
  },
  {
   "cell_type": "code",
   "execution_count": 5,
   "metadata": {},
   "outputs": [
    {
     "name": "stdout",
     "output_type": "stream",
     "text": [
      "Lets try Mike\n",
      "\n",
      "Alice descansava com a irmã mais velha à sombra de uma árvore quando foi surpreendida pela visão de um coelho branco e de olhos corderosa Do bolso do colete que vestia o coelho tirou um relógio e conferindo os ponteiros concluiu estar atrasado Intrigada com o que via Alice decidiu seguir o animal Foi parar em um mundo subterrâneo no qual a lógica da realidade frequentemente era posta à prova\n"
     ]
    }
   ],
   "source": [
    "string_one = \"Let's try, Mike.\"\n",
    "\n",
    "string_two = \"Alice descansava com a irmã mais velha à sombra de uma árvore quando foi surpreendida pela visão de um coelho branco e de olhos cor-de-rosa. \"\\\n",
    "             \"Do bolso do colete que vestia, o coelho tirou um relógio e, conferindo os ponteiros, concluiu estar atrasado. Intrigada com o que via, Alice decidiu seguir o animal. \"\\\n",
    "             \"Foi parar em um mundo subterrâneo no qual a lógica da realidade frequentemente era posta à prova\"\n",
    "\n",
    "\n",
    "rem_punc = lambda string: \"\".join(w for w in string if w.isalpha() or w.isspace())\n",
    "\n",
    "print(rem_punc(string_one))\n",
    "print()\n",
    "print(rem_punc(string_two))"
   ]
  },
  {
   "cell_type": "markdown",
   "metadata": {},
   "source": [
    "- C-1.26 Write a short Python function that takes as input three integers $a,$ $b,$ and $c$, from the console and determines if they can be used in a correct arithmetic formula (in the given order)."
   ]
  },
  {
   "cell_type": "code",
   "execution_count": 8,
   "metadata": {},
   "outputs": [
    {
     "name": "stdout",
     "output_type": "stream",
     "text": [
      "3, 5 and 15\n",
      "Numbers satisfy the properties of multiplication \n"
     ]
    }
   ],
   "source": [
    "a, b, c = map(int, input(\"Enter three integers separated by a comma: \").split(',') )\n",
    "\n",
    "multiplication = True if (c / a == b and c / b == a) else False\n",
    "addition = True if (c - b == a and c- a == b) else False\n",
    "\n",
    "if any((multiplication, addition)):\n",
    "    if multiplication:\n",
    "        print(f\"{a}, {b} and {c}\")\n",
    "        print(\"Numbers satisfy the properties of multiplication \")\n",
    "    elif addition:\n",
    "        print(f\"{a}, {b} and {c}\")\n",
    "        print(\"Numbers satisfy the properties of addition\")\n",
    "else:\n",
    "    print(\"The numbers do not satisfy the properties of either addition or multiplication \")"
   ]
  },
  {
   "cell_type": "markdown",
   "metadata": {},
   "source": [
    "- C-1.27 In section 1.8, we provided three different implementations of a generator that computes factors of a given integer. The third of those implementations, from page 41, was most efficient, but we noted that it did not yield the factors in increasing order. Modify the generator so that ir reports factors in increasing order, while maintaining its general performance advantages."
   ]
  },
  {
   "cell_type": "code",
   "execution_count": 9,
   "metadata": {},
   "outputs": [
    {
     "name": "stdout",
     "output_type": "stream",
     "text": [
      "[1, 5, 25]\n",
      "(1, 2, 3, 4, 6, 12)\n"
     ]
    }
   ],
   "source": [
    "def factors(n: int) -> int: \n",
    "    \"\"\"\n",
    "    generator that computes factors\n",
    "    \"\"\"\n",
    "    for i in range(1, n + 1):\n",
    "        for k in range (1 , n + 1):\n",
    "            if i * k == n :\n",
    "                yield i\n",
    "num = 25\n",
    "num_ = 12\n",
    "print(list(factors(num)), tuple(factors(num_)), sep= '\\n')"
   ]
  },
  {
   "cell_type": "markdown",
   "metadata": {},
   "source": [
    "- C-1.28 The **p-norm** of a vector $v = (v_2,...v_n)$ in n-dimensional space is defined as\\\n",
    "$\\hspace{10em} \\| v \\| = \\sqrt[p]{v^p_1 + v^p_2+\\cdots+ v^p_n}.$\\\n",
    "For the spacial case $p = 2,$ this results in the traditional **Euclidean norm,** which represents the length of the vector. For example, the Euclidean norm of two-dimensional vector with coordinates $(9,3)$ has Euclidean norm of $ \\sqrt{4^2 + 3^2} = \\sqrt{16 + 9} = \\sqrt{25} = 5.$ Give an implementation of a function named  $norm$ such that $norm(v, p)$ returns the $p-norm$ value of $v$ and $norm(v)$ returns the Euclidean $norm$ of $v.$ You may assume that $v$ is a list of numbers. "
   ]
  },
  {
   "cell_type": "code",
   "execution_count": 10,
   "metadata": {},
   "outputs": [
    {
     "name": "stdout",
     "output_type": "stream",
     "text": [
      "5.0\n",
      "16.331620904278438\n",
      "6.0\n",
      "14.208272238382822 = 14.208272238382822\n"
     ]
    }
   ],
   "source": [
    "from numpy import linspace \n",
    "from numpy import linalg\n",
    "\n",
    "vector = 4, 3\n",
    "vector_two  = list(range(12))\n",
    "vector_three = 3, -2, 6\n",
    "test = linspace(1, 10, num=5)\n",
    "\n",
    "def norm(v: list , p = 2)  -> int | float :\n",
    "    \n",
    "    \"\"\"\n",
    "     norm(v, p) returns the p-norm value of v and norm(v) returns the Euclidean norm of v\n",
    "    \"\"\"\n",
    "    \n",
    "    # Using the map function to apply the lambda function to each element of the list v. The lambda\n",
    "    # function takes the absolute value of the element and raises it to the power of p. The sum\n",
    "    # function then sums the results of the map function. The result is then raised to the power of\n",
    "    # 1/p.\n",
    "    \n",
    "    return sum(map(lambda x : pow(abs(x), p), v)) ** (1 / p )\n",
    "  \n",
    "print(norm(vector))\n",
    "print(norm(vector_two, 3))\n",
    "print(norm(vector_three, 100))\n",
    "\n",
    "print(norm(test), linalg.norm(test), sep= \" = \")\n"
   ]
  }
 ],
 "metadata": {
  "kernelspec": {
   "display_name": "Python 3.11.0 64-bit",
   "language": "python",
   "name": "python3"
  },
  "language_info": {
   "codemirror_mode": {
    "name": "ipython",
    "version": 3
   },
   "file_extension": ".py",
   "mimetype": "text/x-python",
   "name": "python",
   "nbconvert_exporter": "python",
   "pygments_lexer": "ipython3",
   "version": "3.11.0 (main, Oct 24 2022, 18:26:48) [MSC v.1933 64 bit (AMD64)]"
  },
  "vscode": {
   "interpreter": {
    "hash": "08e0e6415ea90f1c2c31fb23d25a84ac493df5753264198e1c5f00f3d89e9b89"
   }
  }
 },
 "nbformat": 4,
 "nbformat_minor": 4
}
