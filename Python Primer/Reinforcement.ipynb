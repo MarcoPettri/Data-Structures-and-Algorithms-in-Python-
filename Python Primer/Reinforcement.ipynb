{
 "cells": [
  {
   "attachments": {},
   "cell_type": "markdown",
   "metadata": {},
   "source": [
    "# Chapter 1: Python Primer"
   ]
  },
  {
   "cell_type": "markdown",
   "metadata": {},
   "source": [
    "## Reinforcement"
   ]
  },
  {
   "cell_type": "markdown",
   "metadata": {},
   "source": [
    "- R-1.1 Write a short Python function, $is\\_multiple(n, m)$, that takes two integer\n",
    "values and returns *True* if *n* is a multiple of *m*, that is, $n = mi$ for some\n",
    "integer *i* , and *False* otherwise."
   ]
  },
  {
   "cell_type": "code",
   "execution_count": 1,
   "metadata": {},
   "outputs": [
    {
     "name": "stdout",
     "output_type": "stream",
     "text": [
      "False\n",
      "True\n"
     ]
    }
   ],
   "source": [
    "def is_multiple(n,m) :\n",
    "    '''confirms if n is a multiple of m'''\n",
    "   \n",
    "    return True if n % m == 0  else  False\n",
    "\n",
    "print(is_multiple(12, 90))\n",
    "print(is_multiple(320, 4))"
   ]
  },
  {
   "cell_type": "markdown",
   "metadata": {},
   "source": [
    "- R-1.2 Write a short Python function, $is\\_even(k)$, that takes an integer value and return *True* if *k* is even, ***False*** otherwise. However, your function cannot use the multiplication, modulo, or division operators."
   ]
  },
  {
   "cell_type": "code",
   "execution_count": 2,
   "metadata": {},
   "outputs": [
    {
     "name": "stdout",
     "output_type": "stream",
     "text": [
      "False\n",
      "True\n",
      "True\n"
     ]
    }
   ],
   "source": [
    "is_even = lambda k: False if k & 1 else True\n",
    "\n",
    "print(is_even(3))\n",
    "print(is_even(2))\n",
    "print(is_even(392))\n"
   ]
  },
  {
   "cell_type": "markdown",
   "metadata": {},
   "source": [
    "- R-1.3 Write a short Python function, $minmax(data)$, that takes a sequence of one or more numbers, and returns the smallest and largest numbers, in the form of a tuple of length two. Do not use the built-in function *min* or *max* in implementing your solution."
   ]
  },
  {
   "cell_type": "code",
   "execution_count": 3,
   "metadata": {},
   "outputs": [
    {
     "name": "stdout",
     "output_type": "stream",
     "text": [
      "(9, 4, 12, 12, 34, 5)--> (4, 34)\n",
      "[128, 22, 120, 89, 174, 85, 115, 84, 148, 198, 67, 122] ---> (22, 198)\n"
     ]
    }
   ],
   "source": [
    "import numpy as np\n",
    "\n",
    "def minmax(args1,*args) -> tuple :\n",
    "\n",
    "    \n",
    "    if hasattr(args1,\"__iter__\"): # Checks if it is an iterable\n",
    "        data = args1\n",
    "    else: \n",
    "        data = args1, *args\n",
    "   \n",
    "    index = len(data)-1\n",
    "    minimum = maximum = data[index]\n",
    "    \n",
    "    while (index >= 0):\n",
    "        \n",
    "        if data[index] > maximum :\n",
    "            maximum = data[index]\n",
    "        elif data[index] <  minimum:\n",
    "            minimum = data[index]\n",
    "        \n",
    "        index -=1\n",
    "    \n",
    "    return (minimum,maximum)    \n",
    "    \n",
    "test = np.random.randint(1, 200, 12).tolist()\n",
    "\n",
    "\n",
    "print(\"(9, 4, 12, 12, 34, 5)-->\", minmax(12, 4, 34, 5))\n",
    "\n",
    "\n",
    "print(f\"{test} ---> {minmax(test)}\")"
   ]
  },
  {
   "cell_type": "markdown",
   "metadata": {},
   "source": [
    "- R-1.4 Write a short Python function that takes a positive integer *n* and returns the sum of the squares of all the positive integers smaller that *n*."
   ]
  },
  {
   "cell_type": "code",
   "execution_count": 4,
   "metadata": {},
   "outputs": [
    {
     "data": {
      "text/plain": [
       "506"
      ]
     },
     "execution_count": 4,
     "metadata": {},
     "output_type": "execute_result"
    }
   ],
   "source": [
    "def sum_square(n: int) -> int :\n",
    "    total = int()\n",
    "    for n in range(1,n):\n",
    "        total += n ** 2\n",
    "    return total\n",
    "sum_square(12)"
   ]
  },
  {
   "cell_type": "markdown",
   "metadata": {},
   "source": [
    "- R-1.5 Give a single command that computes the sum from Exercise R-1.4, relying on Python's comprehension syntax and the built-in *sum* function."
   ]
  },
  {
   "cell_type": "code",
   "execution_count": 5,
   "metadata": {},
   "outputs": [
    {
     "data": {
      "text/plain": [
       "506"
      ]
     },
     "execution_count": 5,
     "metadata": {},
     "output_type": "execute_result"
    }
   ],
   "source": [
    "sum_square = lambda n : sum(pow(x, 2) for x in range(1,n))\n",
    "sum_square(12)"
   ]
  },
  {
   "cell_type": "markdown",
   "metadata": {},
   "source": [
    "- R-1.6 Write a short Python function that takes a positive integer *n* and returns the sum of the squares of all the odd positive integers smaller than *n*."
   ]
  },
  {
   "cell_type": "code",
   "execution_count": 6,
   "metadata": {},
   "outputs": [
    {
     "data": {
      "text/plain": [
       "286"
      ]
     },
     "execution_count": 6,
     "metadata": {},
     "output_type": "execute_result"
    }
   ],
   "source": [
    "def sum_odd_square(n: int) -> int :\n",
    "    total = int()\n",
    "    for i in range(1,n):\n",
    "        if i & 1 :\n",
    "            total += i ** 2\n",
    "    return total\n",
    "sum_odd_square(13)"
   ]
  },
  {
   "cell_type": "markdown",
   "metadata": {},
   "source": [
    "- R-1.7 Give a single command that computes the sum from Exercise R-1.6, relying on Python's comprehension syntax and the built-in *sum* function. "
   ]
  },
  {
   "cell_type": "code",
   "execution_count": 7,
   "metadata": {},
   "outputs": [
    {
     "data": {
      "text/plain": [
       "286"
      ]
     },
     "execution_count": 7,
     "metadata": {},
     "output_type": "execute_result"
    }
   ],
   "source": [
    "sum_odd_square = lambda n: sum(pow(x, 2) for x in range(1, n) if x & 1)\n",
    "sum_odd_square(13)"
   ]
  },
  {
   "cell_type": "markdown",
   "metadata": {},
   "source": [
    "- R-1.8 Python allows negative integers to be used as indices into a sequence, such as string. If string $s$ has length $n$, and expression $s[k]$ is used for index $-n \\leq k < 0$, what is the equivalent index $ j \\geq 0$ such that $s[j]$ reference the same element?."
   ]
  },
  {
   "cell_type": "markdown",
   "metadata": {},
   "source": [
    "#### Answer :\n",
    "\n",
    "$\\hspace{2cm} 0 \\leq j \\leq n - 1 \\qquad or \\qquad 0\\leq j < n$"
   ]
  },
  {
   "cell_type": "markdown",
   "metadata": {},
   "source": [
    "- R-1.9 What parameters should be sent to the range constructor, to produce a range with values $50, 60, 70, 80?.$"
   ]
  },
  {
   "cell_type": "code",
   "execution_count": 8,
   "metadata": {},
   "outputs": [
    {
     "name": "stdout",
     "output_type": "stream",
     "text": [
      "50 60 70 80\n"
     ]
    }
   ],
   "source": [
    "print(*(range(50, 81, 10)))"
   ]
  },
  {
   "cell_type": "markdown",
   "metadata": {},
   "source": [
    "- R-1.10 What parameters should be sent to the *range* constructor, to produce a range whit values $8, 6, 4, 2, 0, -2, -4, -6, -8?.$"
   ]
  },
  {
   "cell_type": "code",
   "execution_count": 9,
   "metadata": {},
   "outputs": [
    {
     "name": "stdout",
     "output_type": "stream",
     "text": [
      "8, 6, 4, 2, 0, -2, -4, -6, -8\n"
     ]
    }
   ],
   "source": [
    "print(*(range(8,-9,-2)), sep=\", \")"
   ]
  },
  {
   "cell_type": "markdown",
   "metadata": {},
   "source": [
    "- R-1.11 Demonstrate how to use Python's list comprehension syntax to produce the list $[1, 2, 4, 8, 16, 32, 64, 128, 256].$"
   ]
  },
  {
   "cell_type": "code",
   "execution_count": 14,
   "metadata": {},
   "outputs": [
    {
     "data": {
      "text/plain": [
       "[1, 2, 4, 8, 16, 32, 64, 128, 256]"
      ]
     },
     "execution_count": 14,
     "metadata": {},
     "output_type": "execute_result"
    }
   ],
   "source": [
    "[2 **n for n in range(9)]"
   ]
  },
  {
   "cell_type": "markdown",
   "metadata": {},
   "source": [
    "- R-1.12 Python's random module includes a function *choice(data)* that returns a random element fro a non-empty sequence. The random module includes a more basic function *randrange*, with parameterization similar to the built-in *range* function, that return a random choice from the given range. Using only the *randrange* function, implement your own version of the *choice* function. "
   ]
  },
  {
   "cell_type": "code",
   "execution_count": 16,
   "metadata": {},
   "outputs": [
    {
     "name": "stdout",
     "output_type": "stream",
     "text": [
      "[10, 5, 19, 6, 2, 13, 16, 7, 8, 15]--> [2, 16, 16, 15, 16]\n",
      "('a', 'b', 'c', 'd', 'e', 'f', 'g', 'h', 'i', 'j', 'k', 'l', 'm', 'n', 'o')--> ('o', 'n', 'm', 'l', 'c')\n"
     ]
    }
   ],
   "source": [
    "import numpy as np\n",
    "\n",
    "def choice_(iterable: iter):\n",
    "    \"\"\"chooses a random element from the iterable\n",
    "    \"\"\"\n",
    "    from random import randrange\n",
    "    ## Linear congruential generator <--> (aX + C) mod m\n",
    "    while True:\n",
    "        multiplier = randrange(1,len(iterable)) #---> a\n",
    "        increment = randrange(len(iterable)) # ---> c\n",
    "        seed = randrange(len(iterable)) # --> X\n",
    "        modulus = randrange(len(iterable), pow(len(iterable), 3)) #---> m\n",
    "        next =  (multiplier * seed + increment ) % modulus\n",
    "        \n",
    "        if next < len(iterable):\n",
    "            return iterable[next]\n",
    "\n",
    "sequence = np.random.randint(1,20,10).tolist()\n",
    "sequence_two = tuple(map(chr,range(97,112)))\n",
    "\n",
    "test = [choice_(sequence) for _ in range(5)]\n",
    "test_two = tuple(choice_(sequence_two) for _ in range(5))\n",
    "print(f\"{sequence}--> {test}\")\n",
    "print(f\"{sequence_two}--> {test_two}\")\n",
    "\n"
   ]
  }
 ],
 "metadata": {
  "kernelspec": {
   "display_name": "Python 3.11.0 64-bit",
   "language": "python",
   "name": "python3"
  },
  "language_info": {
   "codemirror_mode": {
    "name": "ipython",
    "version": 3
   },
   "file_extension": ".py",
   "mimetype": "text/x-python",
   "name": "python",
   "nbconvert_exporter": "python",
   "pygments_lexer": "ipython3",
   "version": "3.11.0"
  },
  "vscode": {
   "interpreter": {
    "hash": "08e0e6415ea90f1c2c31fb23d25a84ac493df5753264198e1c5f00f3d89e9b89"
   }
  }
 },
 "nbformat": 4,
 "nbformat_minor": 4
}
